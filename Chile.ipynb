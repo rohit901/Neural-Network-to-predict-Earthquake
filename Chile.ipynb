{
 "cells": [
  {
   "cell_type": "code",
   "execution_count": 1,
   "metadata": {},
   "outputs": [
    {
     "name": "stderr",
     "output_type": "stream",
     "text": [
      "/home/rohit/anaconda3/lib/python3.7/site-packages/tensorflow/python/framework/dtypes.py:516: FutureWarning: Passing (type, 1) or '1type' as a synonym of type is deprecated; in a future version of numpy, it will be understood as (type, (1,)) / '(1,)type'.\n",
      "  _np_qint8 = np.dtype([(\"qint8\", np.int8, 1)])\n",
      "/home/rohit/anaconda3/lib/python3.7/site-packages/tensorflow/python/framework/dtypes.py:517: FutureWarning: Passing (type, 1) or '1type' as a synonym of type is deprecated; in a future version of numpy, it will be understood as (type, (1,)) / '(1,)type'.\n",
      "  _np_quint8 = np.dtype([(\"quint8\", np.uint8, 1)])\n",
      "/home/rohit/anaconda3/lib/python3.7/site-packages/tensorflow/python/framework/dtypes.py:518: FutureWarning: Passing (type, 1) or '1type' as a synonym of type is deprecated; in a future version of numpy, it will be understood as (type, (1,)) / '(1,)type'.\n",
      "  _np_qint16 = np.dtype([(\"qint16\", np.int16, 1)])\n",
      "/home/rohit/anaconda3/lib/python3.7/site-packages/tensorflow/python/framework/dtypes.py:519: FutureWarning: Passing (type, 1) or '1type' as a synonym of type is deprecated; in a future version of numpy, it will be understood as (type, (1,)) / '(1,)type'.\n",
      "  _np_quint16 = np.dtype([(\"quint16\", np.uint16, 1)])\n",
      "/home/rohit/anaconda3/lib/python3.7/site-packages/tensorflow/python/framework/dtypes.py:520: FutureWarning: Passing (type, 1) or '1type' as a synonym of type is deprecated; in a future version of numpy, it will be understood as (type, (1,)) / '(1,)type'.\n",
      "  _np_qint32 = np.dtype([(\"qint32\", np.int32, 1)])\n",
      "/home/rohit/anaconda3/lib/python3.7/site-packages/tensorflow/python/framework/dtypes.py:525: FutureWarning: Passing (type, 1) or '1type' as a synonym of type is deprecated; in a future version of numpy, it will be understood as (type, (1,)) / '(1,)type'.\n",
      "  np_resource = np.dtype([(\"resource\", np.ubyte, 1)])\n",
      "/home/rohit/anaconda3/lib/python3.7/site-packages/tensorboard/compat/tensorflow_stub/dtypes.py:541: FutureWarning: Passing (type, 1) or '1type' as a synonym of type is deprecated; in a future version of numpy, it will be understood as (type, (1,)) / '(1,)type'.\n",
      "  _np_qint8 = np.dtype([(\"qint8\", np.int8, 1)])\n",
      "/home/rohit/anaconda3/lib/python3.7/site-packages/tensorboard/compat/tensorflow_stub/dtypes.py:542: FutureWarning: Passing (type, 1) or '1type' as a synonym of type is deprecated; in a future version of numpy, it will be understood as (type, (1,)) / '(1,)type'.\n",
      "  _np_quint8 = np.dtype([(\"quint8\", np.uint8, 1)])\n",
      "/home/rohit/anaconda3/lib/python3.7/site-packages/tensorboard/compat/tensorflow_stub/dtypes.py:543: FutureWarning: Passing (type, 1) or '1type' as a synonym of type is deprecated; in a future version of numpy, it will be understood as (type, (1,)) / '(1,)type'.\n",
      "  _np_qint16 = np.dtype([(\"qint16\", np.int16, 1)])\n",
      "/home/rohit/anaconda3/lib/python3.7/site-packages/tensorboard/compat/tensorflow_stub/dtypes.py:544: FutureWarning: Passing (type, 1) or '1type' as a synonym of type is deprecated; in a future version of numpy, it will be understood as (type, (1,)) / '(1,)type'.\n",
      "  _np_quint16 = np.dtype([(\"quint16\", np.uint16, 1)])\n",
      "/home/rohit/anaconda3/lib/python3.7/site-packages/tensorboard/compat/tensorflow_stub/dtypes.py:545: FutureWarning: Passing (type, 1) or '1type' as a synonym of type is deprecated; in a future version of numpy, it will be understood as (type, (1,)) / '(1,)type'.\n",
      "  _np_qint32 = np.dtype([(\"qint32\", np.int32, 1)])\n",
      "/home/rohit/anaconda3/lib/python3.7/site-packages/tensorboard/compat/tensorflow_stub/dtypes.py:550: FutureWarning: Passing (type, 1) or '1type' as a synonym of type is deprecated; in a future version of numpy, it will be understood as (type, (1,)) / '(1,)type'.\n",
      "  np_resource = np.dtype([(\"resource\", np.ubyte, 1)])\n",
      "Using TensorFlow backend.\n"
     ]
    }
   ],
   "source": [
    "import numpy as np\n",
    "import scipy.stats\n",
    "import statsmodels.api as sm\n",
    "from statsmodels.sandbox.regression.predstd import wls_prediction_std\n",
    "import pandas as pd\n",
    "import datetime as dt\n",
    "dt.datetime.strptime\n",
    "import matplotlib.pyplot as plt\n",
    "from sklearn import preprocessing\n",
    "from sklearn.model_selection import train_test_split\n",
    "from sklearn.linear_model import LinearRegression\n",
    "from sklearn import metrics\n",
    "import tensorflow as tf\n",
    "from tensorflow.keras.models import load_model\n",
    "from tensorflow.keras.optimizers import SGD\n",
    "from tensorflow.keras.optimizers import RMSprop\n",
    "from tensorflow.keras.optimizers import Adam\n",
    "from keras.models import Sequential\n",
    "from keras.layers import Dense\n",
    "from sklearn.model_selection import cross_val_score\n",
    "from sklearn.model_selection import KFold\n",
    "from keras.wrappers.scikit_learn import KerasRegressor\n",
    "from keras.layers import LSTM\n",
    "import tensorflow_docs as tfdocs\n",
    "import tensorflow_docs.plots\n",
    "import tensorflow_docs.modeling\n",
    "import seaborn as sns\n",
    "from sklearn.metrics import r2_score\n",
    "plt.style.use(\"bmh\")"
   ]
  },
  {
   "cell_type": "code",
   "execution_count": 2,
   "metadata": {},
   "outputs": [],
   "source": [
    "data = pd.read_csv(\"Talca_Region.ods\", sep = \"|\")"
   ]
  },
  {
   "cell_type": "code",
   "execution_count": 3,
   "metadata": {},
   "outputs": [],
   "source": [
    "data.columns = data.columns.str.strip()"
   ]
  },
  {
   "cell_type": "code",
   "execution_count": 119,
   "metadata": {},
   "outputs": [
    {
     "data": {
      "text/html": [
       "<div>\n",
       "<style scoped>\n",
       "    .dataframe tbody tr th:only-of-type {\n",
       "        vertical-align: middle;\n",
       "    }\n",
       "\n",
       "    .dataframe tbody tr th {\n",
       "        vertical-align: top;\n",
       "    }\n",
       "\n",
       "    .dataframe thead th {\n",
       "        text-align: right;\n",
       "    }\n",
       "</style>\n",
       "<table border=\"1\" class=\"dataframe\">\n",
       "  <thead>\n",
       "    <tr style=\"text-align: right;\">\n",
       "      <th></th>\n",
       "      <th>#EventID</th>\n",
       "      <th>Time</th>\n",
       "      <th>Latitude</th>\n",
       "      <th>Longitude</th>\n",
       "      <th>Depth/km</th>\n",
       "      <th>Author</th>\n",
       "      <th>Catalog</th>\n",
       "      <th>Contributor</th>\n",
       "      <th>ContributorID</th>\n",
       "      <th>MagType</th>\n",
       "      <th>Magnitude</th>\n",
       "      <th>MagAuthor</th>\n",
       "      <th>EventLocationName</th>\n",
       "    </tr>\n",
       "  </thead>\n",
       "  <tbody>\n",
       "    <tr>\n",
       "      <th>191</th>\n",
       "      <td>1853079</td>\n",
       "      <td>2004-04-18 17:35:41+00:00</td>\n",
       "      <td>-35.8870</td>\n",
       "      <td>-71.5340</td>\n",
       "      <td>125.1</td>\n",
       "      <td>GUC</td>\n",
       "      <td>ISC</td>\n",
       "      <td>ISC</td>\n",
       "      <td>7331964</td>\n",
       "      <td>ML</td>\n",
       "      <td>3.4</td>\n",
       "      <td>GUC</td>\n",
       "      <td>CENTRAL CHILE</td>\n",
       "    </tr>\n",
       "    <tr>\n",
       "      <th>192</th>\n",
       "      <td>1849346</td>\n",
       "      <td>2004-05-17 18:54:08+00:00</td>\n",
       "      <td>-35.6029</td>\n",
       "      <td>-71.6751</td>\n",
       "      <td>100.9</td>\n",
       "      <td>ISC</td>\n",
       "      <td>ISC</td>\n",
       "      <td>ISC</td>\n",
       "      <td>7344493</td>\n",
       "      <td>ML</td>\n",
       "      <td>3.8</td>\n",
       "      <td>GUC</td>\n",
       "      <td>CENTRAL CHILE</td>\n",
       "    </tr>\n",
       "    <tr>\n",
       "      <th>193</th>\n",
       "      <td>1865200</td>\n",
       "      <td>2004-05-20 09:38:09+00:00</td>\n",
       "      <td>-35.1750</td>\n",
       "      <td>-71.2140</td>\n",
       "      <td>96.9</td>\n",
       "      <td>GUC</td>\n",
       "      <td>ISC</td>\n",
       "      <td>ISC</td>\n",
       "      <td>7345673</td>\n",
       "      <td>ML</td>\n",
       "      <td>4.0</td>\n",
       "      <td>GUC</td>\n",
       "      <td>CENTRAL CHILE</td>\n",
       "    </tr>\n",
       "    <tr>\n",
       "      <th>194</th>\n",
       "      <td>1918683</td>\n",
       "      <td>2004-05-29 09:15:41+00:00</td>\n",
       "      <td>-35.9800</td>\n",
       "      <td>-71.3400</td>\n",
       "      <td>117.4</td>\n",
       "      <td>GUC</td>\n",
       "      <td>ISC</td>\n",
       "      <td>ISC</td>\n",
       "      <td>7349692</td>\n",
       "      <td>ML</td>\n",
       "      <td>3.2</td>\n",
       "      <td>GUC</td>\n",
       "      <td>CENTRAL CHILE</td>\n",
       "    </tr>\n",
       "    <tr>\n",
       "      <th>195</th>\n",
       "      <td>1767902</td>\n",
       "      <td>2004-06-03 07:53:13+00:00</td>\n",
       "      <td>-35.5890</td>\n",
       "      <td>-71.3760</td>\n",
       "      <td>88.4</td>\n",
       "      <td>GUC</td>\n",
       "      <td>ISC</td>\n",
       "      <td>ISC</td>\n",
       "      <td>7352544</td>\n",
       "      <td>ML</td>\n",
       "      <td>3.4</td>\n",
       "      <td>GUC</td>\n",
       "      <td>CENTRAL CHILE</td>\n",
       "    </tr>\n",
       "    <tr>\n",
       "      <th>...</th>\n",
       "      <td>...</td>\n",
       "      <td>...</td>\n",
       "      <td>...</td>\n",
       "      <td>...</td>\n",
       "      <td>...</td>\n",
       "      <td>...</td>\n",
       "      <td>...</td>\n",
       "      <td>...</td>\n",
       "      <td>...</td>\n",
       "      <td>...</td>\n",
       "      <td>...</td>\n",
       "      <td>...</td>\n",
       "      <td>...</td>\n",
       "    </tr>\n",
       "    <tr>\n",
       "      <th>668</th>\n",
       "      <td>10792843</td>\n",
       "      <td>2015-06-22 12:24:29+00:00</td>\n",
       "      <td>-35.7870</td>\n",
       "      <td>-71.4630</td>\n",
       "      <td>112.5</td>\n",
       "      <td>GUC</td>\n",
       "      <td>ISC</td>\n",
       "      <td>ISC</td>\n",
       "      <td>609378586</td>\n",
       "      <td>ML</td>\n",
       "      <td>3.7</td>\n",
       "      <td>GUC</td>\n",
       "      <td>CENTRAL CHILE</td>\n",
       "    </tr>\n",
       "    <tr>\n",
       "      <th>669</th>\n",
       "      <td>10815596</td>\n",
       "      <td>2015-07-08 02:55:55+00:00</td>\n",
       "      <td>-35.6540</td>\n",
       "      <td>-71.2390</td>\n",
       "      <td>104.8</td>\n",
       "      <td>GUC</td>\n",
       "      <td>ISC</td>\n",
       "      <td>ISC</td>\n",
       "      <td>609378748</td>\n",
       "      <td>ML</td>\n",
       "      <td>3.7</td>\n",
       "      <td>GUC</td>\n",
       "      <td>CENTRAL CHILE</td>\n",
       "    </tr>\n",
       "    <tr>\n",
       "      <th>670</th>\n",
       "      <td>5151013</td>\n",
       "      <td>2015-07-15 16:29:57+00:00</td>\n",
       "      <td>-35.3442</td>\n",
       "      <td>-71.7173</td>\n",
       "      <td>63.1</td>\n",
       "      <td>ISC</td>\n",
       "      <td>ISC</td>\n",
       "      <td>ISC</td>\n",
       "      <td>607466885</td>\n",
       "      <td>ML</td>\n",
       "      <td>3.8</td>\n",
       "      <td>GUC</td>\n",
       "      <td>CENTRAL CHILE</td>\n",
       "    </tr>\n",
       "    <tr>\n",
       "      <th>671</th>\n",
       "      <td>10835504</td>\n",
       "      <td>2015-07-28 19:06:57+00:00</td>\n",
       "      <td>-35.0340</td>\n",
       "      <td>-71.8310</td>\n",
       "      <td>38.5</td>\n",
       "      <td>GUC</td>\n",
       "      <td>ISC</td>\n",
       "      <td>ISC</td>\n",
       "      <td>609378938</td>\n",
       "      <td>ML</td>\n",
       "      <td>3.0</td>\n",
       "      <td>GUC</td>\n",
       "      <td>CENTRAL CHILE</td>\n",
       "    </tr>\n",
       "    <tr>\n",
       "      <th>672</th>\n",
       "      <td>10879627</td>\n",
       "      <td>2015-08-29 02:22:04+00:00</td>\n",
       "      <td>-35.6430</td>\n",
       "      <td>-71.4220</td>\n",
       "      <td>97.8</td>\n",
       "      <td>GUC</td>\n",
       "      <td>ISC</td>\n",
       "      <td>ISC</td>\n",
       "      <td>609379222</td>\n",
       "      <td>ML</td>\n",
       "      <td>3.8</td>\n",
       "      <td>GUC</td>\n",
       "      <td>CENTRAL CHILE</td>\n",
       "    </tr>\n",
       "  </tbody>\n",
       "</table>\n",
       "<p>482 rows × 13 columns</p>\n",
       "</div>"
      ],
      "text/plain": [
       "     #EventID                      Time  Latitude  Longitude  Depth/km Author  \\\n",
       "191   1853079 2004-04-18 17:35:41+00:00  -35.8870   -71.5340     125.1    GUC   \n",
       "192   1849346 2004-05-17 18:54:08+00:00  -35.6029   -71.6751     100.9    ISC   \n",
       "193   1865200 2004-05-20 09:38:09+00:00  -35.1750   -71.2140      96.9    GUC   \n",
       "194   1918683 2004-05-29 09:15:41+00:00  -35.9800   -71.3400     117.4    GUC   \n",
       "195   1767902 2004-06-03 07:53:13+00:00  -35.5890   -71.3760      88.4    GUC   \n",
       "..        ...                       ...       ...        ...       ...    ...   \n",
       "668  10792843 2015-06-22 12:24:29+00:00  -35.7870   -71.4630     112.5    GUC   \n",
       "669  10815596 2015-07-08 02:55:55+00:00  -35.6540   -71.2390     104.8    GUC   \n",
       "670   5151013 2015-07-15 16:29:57+00:00  -35.3442   -71.7173      63.1    ISC   \n",
       "671  10835504 2015-07-28 19:06:57+00:00  -35.0340   -71.8310      38.5    GUC   \n",
       "672  10879627 2015-08-29 02:22:04+00:00  -35.6430   -71.4220      97.8    GUC   \n",
       "\n",
       "    Catalog Contributor  ContributorID MagType  Magnitude MagAuthor  \\\n",
       "191     ISC         ISC        7331964      ML        3.4       GUC   \n",
       "192     ISC         ISC        7344493      ML        3.8       GUC   \n",
       "193     ISC         ISC        7345673      ML        4.0       GUC   \n",
       "194     ISC         ISC        7349692      ML        3.2       GUC   \n",
       "195     ISC         ISC        7352544      ML        3.4       GUC   \n",
       "..      ...         ...            ...     ...        ...       ...   \n",
       "668     ISC         ISC      609378586      ML        3.7       GUC   \n",
       "669     ISC         ISC      609378748      ML        3.7       GUC   \n",
       "670     ISC         ISC      607466885      ML        3.8       GUC   \n",
       "671     ISC         ISC      609378938      ML        3.0       GUC   \n",
       "672     ISC         ISC      609379222      ML        3.8       GUC   \n",
       "\n",
       "    EventLocationName  \n",
       "191     CENTRAL CHILE  \n",
       "192     CENTRAL CHILE  \n",
       "193     CENTRAL CHILE  \n",
       "194     CENTRAL CHILE  \n",
       "195     CENTRAL CHILE  \n",
       "..                ...  \n",
       "668     CENTRAL CHILE  \n",
       "669     CENTRAL CHILE  \n",
       "670     CENTRAL CHILE  \n",
       "671     CENTRAL CHILE  \n",
       "672     CENTRAL CHILE  \n",
       "\n",
       "[482 rows x 13 columns]"
      ]
     },
     "execution_count": 119,
     "metadata": {},
     "output_type": "execute_result"
    }
   ],
   "source": [
    "data.iloc[69+122:,:]"
   ]
  },
  {
   "cell_type": "code",
   "execution_count": null,
   "metadata": {
    "scrolled": true
   },
   "outputs": [],
   "source": [
    "max(data.iloc[:,10])"
   ]
  },
  {
   "cell_type": "code",
   "execution_count": 5,
   "metadata": {},
   "outputs": [],
   "source": [
    "bLst = []\n",
    "for index, row in data.iterrows():\n",
    "    if(index >= 49):\n",
    "        sumM = 0\n",
    "        for j in range(index,index-50,-1):\n",
    "            sumM+=data.iloc[j,10]\n",
    "        Mbar = sumM/50\n",
    "        bLst.append( (0.4342944819)/(Mbar - 3) )"
   ]
  },
  {
   "cell_type": "markdown",
   "metadata": {},
   "source": [
    "## b[0] corresponds to data[49]"
   ]
  },
  {
   "cell_type": "code",
   "execution_count": null,
   "metadata": {},
   "outputs": [],
   "source": [
    "bLst[:10]"
   ]
  },
  {
   "cell_type": "code",
   "execution_count": null,
   "metadata": {},
   "outputs": [],
   "source": [
    "len(bLst)"
   ]
  },
  {
   "cell_type": "code",
   "execution_count": null,
   "metadata": {},
   "outputs": [],
   "source": [
    "bLst[1]"
   ]
  },
  {
   "cell_type": "markdown",
   "metadata": {},
   "source": [
    "## x1_i[0] corresponds to data[53]"
   ]
  },
  {
   "cell_type": "code",
   "execution_count": 6,
   "metadata": {},
   "outputs": [],
   "source": [
    "x1_i = []\n",
    "for i,b in enumerate(bLst):\n",
    "    if(i >= 4 ):\n",
    "        x1_i.append( bLst[i] - bLst[i-4] )"
   ]
  },
  {
   "cell_type": "code",
   "execution_count": null,
   "metadata": {},
   "outputs": [],
   "source": [
    "len(x1_i)"
   ]
  },
  {
   "cell_type": "markdown",
   "metadata": {},
   "source": [
    "## x2_i[0] corresponds to data[57]"
   ]
  },
  {
   "cell_type": "code",
   "execution_count": 7,
   "metadata": {},
   "outputs": [],
   "source": [
    "x2_i = []\n",
    "for i,b in enumerate(bLst):\n",
    "    if(i >= 8):\n",
    "        x2_i.append(  bLst[i-4] - bLst[i-8] )"
   ]
  },
  {
   "cell_type": "code",
   "execution_count": null,
   "metadata": {},
   "outputs": [],
   "source": [
    "len(x2_i)"
   ]
  },
  {
   "cell_type": "markdown",
   "metadata": {},
   "source": [
    "## x3_i[0] corresponds to data[61]"
   ]
  },
  {
   "cell_type": "code",
   "execution_count": 8,
   "metadata": {},
   "outputs": [],
   "source": [
    "x3_i = []\n",
    "for i,b in enumerate(bLst):\n",
    "    if(i >= 12):\n",
    "        x3_i.append(  bLst[i-8] - bLst[i-12] )"
   ]
  },
  {
   "cell_type": "code",
   "execution_count": null,
   "metadata": {},
   "outputs": [],
   "source": [
    "len(x3_i)"
   ]
  },
  {
   "cell_type": "markdown",
   "metadata": {},
   "source": [
    "## x4_i[0] corresponds to data[65]"
   ]
  },
  {
   "cell_type": "code",
   "execution_count": 9,
   "metadata": {},
   "outputs": [],
   "source": [
    "x4_i = []\n",
    "for i,b in enumerate(bLst):\n",
    "    if(i >= 16):\n",
    "        x4_i.append(  bLst[i-12] - bLst[i-16] )"
   ]
  },
  {
   "cell_type": "code",
   "execution_count": null,
   "metadata": {},
   "outputs": [],
   "source": [
    "len(x4_i)"
   ]
  },
  {
   "cell_type": "markdown",
   "metadata": {},
   "source": [
    "## x5_i[0] corresponds to data[69]"
   ]
  },
  {
   "cell_type": "code",
   "execution_count": 10,
   "metadata": {},
   "outputs": [],
   "source": [
    "x5_i = []\n",
    "for i,b in enumerate(bLst):\n",
    "    if(i >= 20):\n",
    "        x5_i.append(  bLst[i-16] - bLst[i-20] )"
   ]
  },
  {
   "cell_type": "code",
   "execution_count": null,
   "metadata": {},
   "outputs": [],
   "source": [
    "len(x5_i)"
   ]
  },
  {
   "cell_type": "code",
   "execution_count": 11,
   "metadata": {},
   "outputs": [],
   "source": [
    "from datetime import timedelta"
   ]
  },
  {
   "cell_type": "code",
   "execution_count": 12,
   "metadata": {},
   "outputs": [],
   "source": [
    "dates = pd.Series(pd.date_range(start='20010103', end='20150829'))"
   ]
  },
  {
   "cell_type": "code",
   "execution_count": 13,
   "metadata": {},
   "outputs": [],
   "source": [
    "df = dates.groupby(np.arange(len(dates))//1).agg(['first', 'last'])"
   ]
  },
  {
   "cell_type": "code",
   "execution_count": 14,
   "metadata": {},
   "outputs": [],
   "source": [
    "df['first'] = df['first'].dt.tz_localize('utc')\n",
    "df['last'] = df['last'].dt.tz_localize('utc') + timedelta(1) - timedelta(seconds=1)"
   ]
  },
  {
   "cell_type": "code",
   "execution_count": null,
   "metadata": {},
   "outputs": [],
   "source": [
    "len(df)"
   ]
  },
  {
   "cell_type": "code",
   "execution_count": 15,
   "metadata": {},
   "outputs": [],
   "source": [
    "data.Time = pd.to_datetime(data.Time).dt.tz_localize('utc')"
   ]
  },
  {
   "cell_type": "code",
   "execution_count": 16,
   "metadata": {},
   "outputs": [],
   "source": [
    "dayWind = []\n",
    "for i in range(5352):\n",
    "    dayWind.append(data[ (data['Time'] > df['first'][i]) & (data['Time'] < df['last'][i]) ])"
   ]
  },
  {
   "cell_type": "markdown",
   "metadata": {},
   "source": [
    "## Dictionary for quake to dayIndex"
   ]
  },
  {
   "cell_type": "code",
   "execution_count": 17,
   "metadata": {},
   "outputs": [],
   "source": [
    "quakeToDay = {}\n",
    "cnt = 1\n",
    "for i,d in enumerate(dayWind):\n",
    "    if( len(d) > 0 ):\n",
    "        for j in range(len(d)):\n",
    "            quakeToDay[cnt] = i\n",
    "            cnt+=1"
   ]
  },
  {
   "cell_type": "code",
   "execution_count": null,
   "metadata": {},
   "outputs": [],
   "source": [
    "quakeToDay"
   ]
  },
  {
   "cell_type": "code",
   "execution_count": 18,
   "metadata": {},
   "outputs": [],
   "source": [
    "x6_i = []\n",
    "for day, row in enumerate(dayWind):\n",
    "    tmpMagLst = []\n",
    "    if(day >= 7):\n",
    "        for ind in range(day-1, day-8, -1):\n",
    "            if( len(dayWind[ind]) > 0 ):\n",
    "                for i in range(len(dayWind[ind])):\n",
    "                    tmpMagLst.append(dayWind[ind].iloc[i,10])\n",
    "        if( len(tmpMagLst) > 0 ):\n",
    "            magMx = max(tmpMagLst)\n",
    "            x6_i.append(magMx)\n",
    "        else:\n",
    "            x6_i.append(0)\n",
    "    else:\n",
    "        if(day == 0):\n",
    "            x6_i.append(0)\n",
    "        else:\n",
    "            x6_i.append(3.3)"
   ]
  },
  {
   "cell_type": "code",
   "execution_count": null,
   "metadata": {},
   "outputs": [],
   "source": [
    "len(x6_i)"
   ]
  },
  {
   "cell_type": "code",
   "execution_count": 19,
   "metadata": {},
   "outputs": [],
   "source": [
    "x6_act = []\n",
    "for i,r in data.iterrows():\n",
    "    if(i>=69):\n",
    "        x6_act.append(x6_i[quakeToDay[i+1]])"
   ]
  },
  {
   "cell_type": "code",
   "execution_count": null,
   "metadata": {},
   "outputs": [],
   "source": [
    "x6_act[:10]"
   ]
  },
  {
   "cell_type": "code",
   "execution_count": null,
   "metadata": {},
   "outputs": [],
   "source": [
    "len(x6_act)"
   ]
  },
  {
   "cell_type": "code",
   "execution_count": 20,
   "metadata": {},
   "outputs": [],
   "source": [
    "x7_i = []\n",
    "for i,b in enumerate(bLst):\n",
    "    if( i >= 20):\n",
    "        x7_i.append(10**( (-3) * b))"
   ]
  },
  {
   "cell_type": "code",
   "execution_count": null,
   "metadata": {
    "scrolled": true
   },
   "outputs": [],
   "source": [
    "len(x7_i)"
   ]
  },
  {
   "cell_type": "code",
   "execution_count": 21,
   "metadata": {},
   "outputs": [],
   "source": [
    "y_i = []\n",
    "for day, row in enumerate(dayWind):\n",
    "    tmpMagLst = []\n",
    "    if(day <= 5346):\n",
    "        for ind in range(day+1, day+6, 1):\n",
    "            if( len(dayWind[ind]) > 0 ):\n",
    "                for i in range(len(dayWind[ind])):\n",
    "                    tmpMagLst.append(dayWind[ind].iloc[i,10])\n",
    "        if( len(tmpMagLst) > 0 ):\n",
    "            magMx = max(tmpMagLst)\n",
    "            y_i.append(magMx)\n",
    "        else:\n",
    "            y_i.append(0)\n",
    "    else:\n",
    "        for ind in range(day+1, 5352, 1):\n",
    "            if( len(dayWind[ind]) > 0 ):\n",
    "                for i in range(len(dayWind[ind])):\n",
    "                    tmpMagLst.append(dayWind[ind].iloc[i,10])\n",
    "        if( len(tmpMagLst) > 0 ):\n",
    "            magMx = max(tmpMagLst)\n",
    "            y_i.append(magMx)\n",
    "        else:\n",
    "            y_i.append(0)"
   ]
  },
  {
   "cell_type": "code",
   "execution_count": null,
   "metadata": {
    "scrolled": true
   },
   "outputs": [],
   "source": [
    "len(y_i)"
   ]
  },
  {
   "cell_type": "code",
   "execution_count": 22,
   "metadata": {},
   "outputs": [],
   "source": [
    "y_act = []\n",
    "for i,r in data.iterrows():\n",
    "    if(i>=69):\n",
    "        y_act.append(y_i[quakeToDay[i+1]])"
   ]
  },
  {
   "cell_type": "code",
   "execution_count": null,
   "metadata": {},
   "outputs": [],
   "source": [
    "len(y_act)"
   ]
  },
  {
   "cell_type": "markdown",
   "metadata": {},
   "source": [
    "## Remove last quake as yi can't be calculated for it"
   ]
  },
  {
   "cell_type": "code",
   "execution_count": 23,
   "metadata": {},
   "outputs": [],
   "source": [
    "y_act = y_act[:-1]"
   ]
  },
  {
   "cell_type": "code",
   "execution_count": null,
   "metadata": {},
   "outputs": [],
   "source": [
    "len(y_act)"
   ]
  },
  {
   "cell_type": "markdown",
   "metadata": {},
   "source": [
    "## Remove Row Corrs to Last event from every indp variable"
   ]
  },
  {
   "cell_type": "code",
   "execution_count": 24,
   "metadata": {},
   "outputs": [],
   "source": [
    "x7_act = x7_i[:-1]\n",
    "x6_act = x6_act[:-1]\n",
    "x5_act = x5_i[:-1]\n",
    "x4_act = x4_i[4:-1]\n",
    "x3_act = x3_i[8:-1]\n",
    "x2_act = x2_i[12:-1]\n",
    "x1_act = x1_i[16:-1]"
   ]
  },
  {
   "cell_type": "code",
   "execution_count": 25,
   "metadata": {},
   "outputs": [
    {
     "name": "stdout",
     "output_type": "stream",
     "text": [
      "yi: 603\n",
      "x7: 603\n",
      "x6: 603\n",
      "x5: 603\n",
      "x4: 603\n",
      "x3: 603\n",
      "x2: 603\n",
      "x1: 603\n"
     ]
    }
   ],
   "source": [
    "print(\"yi: {}\".format(len(y_act)))\n",
    "print(\"x7: {}\".format(len(x7_act)))\n",
    "print(\"x6: {}\".format(len(x6_act)))\n",
    "print(\"x5: {}\".format(len(x5_act)))\n",
    "print(\"x4: {}\".format(len(x4_act)))\n",
    "print(\"x3: {}\".format(len(x3_act)))\n",
    "print(\"x2: {}\".format(len(x2_act)))\n",
    "print(\"x1: {}\".format(len(x1_act)))"
   ]
  },
  {
   "cell_type": "code",
   "execution_count": null,
   "metadata": {},
   "outputs": [],
   "source": [
    "print(\"First 5 x1 values: \")\n",
    "print(x1_act[:5])\n",
    "print(\"First 5 x2 values: \")\n",
    "print(x2_act[:5])\n",
    "print(\"First 5 x3 values: \")\n",
    "print(x3_act[:5])\n",
    "print(\"First 5 x4 values: \")\n",
    "print(x4_act[:5])\n",
    "print(\"First 5 x5 values: \")\n",
    "print(x5_act[:5])\n",
    "print(\"First 5 x6 values: \")\n",
    "print(x6_act[:5])\n",
    "print(\"First 5 x7 values: \")\n",
    "print(x7_act[:5])"
   ]
  },
  {
   "cell_type": "code",
   "execution_count": null,
   "metadata": {},
   "outputs": [],
   "source": [
    "print(\"first 5 yi values: \")\n",
    "print(y_act[:5])"
   ]
  },
  {
   "cell_type": "markdown",
   "metadata": {},
   "source": [
    "## Try Using only 122 Values"
   ]
  },
  {
   "cell_type": "code",
   "execution_count": null,
   "metadata": {},
   "outputs": [],
   "source": [
    "posData = data.iloc[69:,10] > threshold\n",
    "posIndex = posData[posData].index\n",
    "posIndex = posIndex[25:25+20]"
   ]
  },
  {
   "cell_type": "code",
   "execution_count": null,
   "metadata": {},
   "outputs": [],
   "source": [
    "posIndex"
   ]
  },
  {
   "cell_type": "code",
   "execution_count": null,
   "metadata": {
    "scrolled": true
   },
   "outputs": [],
   "source": [
    "x1_less = x1_act[:102]\n",
    "x2_less = x2_act[:102]\n",
    "x3_less = x3_act[:102]\n",
    "x4_less = x4_act[:102]\n",
    "x5_less = x5_act[:102]\n",
    "x6_less = x6_act[:102]\n",
    "x7_less = x7_act[:102]\n",
    "for i in posIndex:\n",
    "    x1_less.append(x1_act[i])\n",
    "    x2_less.append(x2_act[i])\n",
    "    x3_less.append(x3_act[i])\n",
    "    x4_less.append(x4_act[i])\n",
    "    x5_less.append(x5_act[i])\n",
    "    x6_less.append(x6_act[i])\n",
    "    x7_less.append(x7_act[i])"
   ]
  },
  {
   "cell_type": "code",
   "execution_count": 26,
   "metadata": {},
   "outputs": [],
   "source": [
    "x1_less = x1_act[:122]\n",
    "x2_less = x2_act[:122]\n",
    "x3_less = x3_act[:122]\n",
    "x4_less = x4_act[:122]\n",
    "x5_less = x5_act[:122]\n",
    "x6_less = x6_act[:122]\n",
    "x7_less = x7_act[:122]"
   ]
  },
  {
   "cell_type": "code",
   "execution_count": 27,
   "metadata": {},
   "outputs": [],
   "source": [
    "x1_less_test = x1_act[122:]\n",
    "x2_less_test = x2_act[122:]\n",
    "x3_less_test = x3_act[122:]\n",
    "x4_less_test = x4_act[122:]\n",
    "x5_less_test = x5_act[122:]\n",
    "#x6_less_test = x6_act[122:122+50]\n",
    "x6_less_test = x6_act[122:]\n",
    "x7_less_test = x7_act[122:]"
   ]
  },
  {
   "cell_type": "code",
   "execution_count": null,
   "metadata": {},
   "outputs": [],
   "source": [
    "y_less = y_act[:102]\n",
    "for i in posIndex:\n",
    "    y_less.append(y_act[i])"
   ]
  },
  {
   "cell_type": "code",
   "execution_count": 28,
   "metadata": {},
   "outputs": [],
   "source": [
    "y_less_test = y_act[122:]"
   ]
  },
  {
   "cell_type": "code",
   "execution_count": 29,
   "metadata": {},
   "outputs": [],
   "source": [
    "y_less = y_act[:122]"
   ]
  },
  {
   "cell_type": "code",
   "execution_count": 30,
   "metadata": {},
   "outputs": [],
   "source": [
    "y_less = pd.Series(y_less)"
   ]
  },
  {
   "cell_type": "code",
   "execution_count": null,
   "metadata": {},
   "outputs": [],
   "source": [
    "len(y_less_test)"
   ]
  },
  {
   "cell_type": "code",
   "execution_count": 31,
   "metadata": {},
   "outputs": [],
   "source": [
    "y_less_test = pd.Series(y_less_test)"
   ]
  },
  {
   "cell_type": "code",
   "execution_count": null,
   "metadata": {},
   "outputs": [],
   "source": [
    "magList = []\n",
    "#data.iloc[:,10].tolist()\n",
    "magList = data.iloc[:102,10].tolist()\n",
    "for i in posIndex:\n",
    "    magList.append(data.iloc[i,10])"
   ]
  },
  {
   "cell_type": "code",
   "execution_count": null,
   "metadata": {},
   "outputs": [],
   "source": [
    "magList = pd.Series(magList)"
   ]
  },
  {
   "cell_type": "code",
   "execution_count": 32,
   "metadata": {},
   "outputs": [],
   "source": [
    "#std_dev = data.iloc[69+100:69+100+122,10].std()\n",
    "#std_dev = data.iloc[69:69+603-50,10].std()\n",
    "#std_dev = magList.std()\n",
    "std_dev = data.iloc[69:69+122,10].std()"
   ]
  },
  {
   "cell_type": "code",
   "execution_count": 33,
   "metadata": {},
   "outputs": [],
   "source": [
    "#threshold = data.iloc[69+100:69+100+122,10].mean() + (0.6 * std_dev)\n",
    "#threshold = data.iloc[69:69+603-50,10].mean() + (0.6 * std_dev)\n",
    "#threshold = magList.mean() + (0.6 * std_dev)\n",
    "threshold = data.iloc[69:69+122,10].mean() + (0.6 * std_dev)"
   ]
  },
  {
   "cell_type": "code",
   "execution_count": null,
   "metadata": {},
   "outputs": [],
   "source": [
    "threshold"
   ]
  },
  {
   "cell_type": "code",
   "execution_count": 34,
   "metadata": {},
   "outputs": [],
   "source": [
    "data_df_test = pd.DataFrame({'x1': x1_less_test, 'x2': x2_less_test, 'x3': x3_less_test, 'x4': x4_less_test, 'x5': x5_less_test, 'x6': x6_less_test, 'x7': x7_less_test})"
   ]
  },
  {
   "cell_type": "code",
   "execution_count": 35,
   "metadata": {},
   "outputs": [],
   "source": [
    "data_df = pd.DataFrame({'x1': x1_less, 'x2': x2_less, 'x3': x3_less, 'x4': x4_less, 'x5': x5_less, 'x6': x6_less, 'x7': x7_less})"
   ]
  },
  {
   "cell_type": "code",
   "execution_count": null,
   "metadata": {},
   "outputs": [],
   "source": [
    "data_df"
   ]
  },
  {
   "cell_type": "code",
   "execution_count": 36,
   "metadata": {},
   "outputs": [
    {
     "data": {
      "text/plain": [
       "count    122.000000\n",
       "mean       1.888525\n",
       "std        1.792417\n",
       "min        0.000000\n",
       "25%        0.000000\n",
       "50%        3.050000\n",
       "75%        3.600000\n",
       "max        4.300000\n",
       "dtype: float64"
      ]
     },
     "execution_count": 36,
     "metadata": {},
     "output_type": "execute_result"
    }
   ],
   "source": [
    "stats2 = y_less.describe()\n",
    "stats2 = stats2.transpose()\n",
    "stats2"
   ]
  },
  {
   "cell_type": "code",
   "execution_count": 37,
   "metadata": {},
   "outputs": [
    {
     "data": {
      "text/html": [
       "<div>\n",
       "<style scoped>\n",
       "    .dataframe tbody tr th:only-of-type {\n",
       "        vertical-align: middle;\n",
       "    }\n",
       "\n",
       "    .dataframe tbody tr th {\n",
       "        vertical-align: top;\n",
       "    }\n",
       "\n",
       "    .dataframe thead th {\n",
       "        text-align: right;\n",
       "    }\n",
       "</style>\n",
       "<table border=\"1\" class=\"dataframe\">\n",
       "  <thead>\n",
       "    <tr style=\"text-align: right;\">\n",
       "      <th></th>\n",
       "      <th>count</th>\n",
       "      <th>mean</th>\n",
       "      <th>std</th>\n",
       "      <th>min</th>\n",
       "      <th>25%</th>\n",
       "      <th>50%</th>\n",
       "      <th>75%</th>\n",
       "      <th>max</th>\n",
       "    </tr>\n",
       "  </thead>\n",
       "  <tbody>\n",
       "    <tr>\n",
       "      <th>x1</th>\n",
       "      <td>122.0</td>\n",
       "      <td>0.010665</td>\n",
       "      <td>0.042138</td>\n",
       "      <td>-0.117101</td>\n",
       "      <td>-0.018722</td>\n",
       "      <td>0.011638</td>\n",
       "      <td>0.035223</td>\n",
       "      <td>0.117238</td>\n",
       "    </tr>\n",
       "    <tr>\n",
       "      <th>x2</th>\n",
       "      <td>122.0</td>\n",
       "      <td>0.007792</td>\n",
       "      <td>0.041295</td>\n",
       "      <td>-0.117101</td>\n",
       "      <td>-0.020421</td>\n",
       "      <td>0.009224</td>\n",
       "      <td>0.034459</td>\n",
       "      <td>0.117238</td>\n",
       "    </tr>\n",
       "    <tr>\n",
       "      <th>x3</th>\n",
       "      <td>122.0</td>\n",
       "      <td>0.006885</td>\n",
       "      <td>0.041059</td>\n",
       "      <td>-0.117101</td>\n",
       "      <td>-0.023275</td>\n",
       "      <td>0.007674</td>\n",
       "      <td>0.033791</td>\n",
       "      <td>0.117238</td>\n",
       "    </tr>\n",
       "    <tr>\n",
       "      <th>x4</th>\n",
       "      <td>122.0</td>\n",
       "      <td>0.006681</td>\n",
       "      <td>0.041117</td>\n",
       "      <td>-0.117101</td>\n",
       "      <td>-0.024292</td>\n",
       "      <td>0.007357</td>\n",
       "      <td>0.033791</td>\n",
       "      <td>0.117238</td>\n",
       "    </tr>\n",
       "    <tr>\n",
       "      <th>x5</th>\n",
       "      <td>122.0</td>\n",
       "      <td>0.006563</td>\n",
       "      <td>0.041223</td>\n",
       "      <td>-0.117101</td>\n",
       "      <td>-0.024292</td>\n",
       "      <td>0.007357</td>\n",
       "      <td>0.033791</td>\n",
       "      <td>0.117238</td>\n",
       "    </tr>\n",
       "    <tr>\n",
       "      <th>x6</th>\n",
       "      <td>122.0</td>\n",
       "      <td>2.246721</td>\n",
       "      <td>1.818372</td>\n",
       "      <td>0.000000</td>\n",
       "      <td>0.000000</td>\n",
       "      <td>3.200000</td>\n",
       "      <td>3.700000</td>\n",
       "      <td>5.000000</td>\n",
       "    </tr>\n",
       "    <tr>\n",
       "      <th>x7</th>\n",
       "      <td>122.0</td>\n",
       "      <td>0.002016</td>\n",
       "      <td>0.001631</td>\n",
       "      <td>0.000147</td>\n",
       "      <td>0.000498</td>\n",
       "      <td>0.001857</td>\n",
       "      <td>0.003263</td>\n",
       "      <td>0.005875</td>\n",
       "    </tr>\n",
       "  </tbody>\n",
       "</table>\n",
       "</div>"
      ],
      "text/plain": [
       "    count      mean       std       min       25%       50%       75%  \\\n",
       "x1  122.0  0.010665  0.042138 -0.117101 -0.018722  0.011638  0.035223   \n",
       "x2  122.0  0.007792  0.041295 -0.117101 -0.020421  0.009224  0.034459   \n",
       "x3  122.0  0.006885  0.041059 -0.117101 -0.023275  0.007674  0.033791   \n",
       "x4  122.0  0.006681  0.041117 -0.117101 -0.024292  0.007357  0.033791   \n",
       "x5  122.0  0.006563  0.041223 -0.117101 -0.024292  0.007357  0.033791   \n",
       "x6  122.0  2.246721  1.818372  0.000000  0.000000  3.200000  3.700000   \n",
       "x7  122.0  0.002016  0.001631  0.000147  0.000498  0.001857  0.003263   \n",
       "\n",
       "         max  \n",
       "x1  0.117238  \n",
       "x2  0.117238  \n",
       "x3  0.117238  \n",
       "x4  0.117238  \n",
       "x5  0.117238  \n",
       "x6  5.000000  \n",
       "x7  0.005875  "
      ]
     },
     "execution_count": 37,
     "metadata": {},
     "output_type": "execute_result"
    }
   ],
   "source": [
    "stats = data_df.describe()\n",
    "stats = stats.transpose()\n",
    "stats"
   ]
  },
  {
   "cell_type": "code",
   "execution_count": 38,
   "metadata": {},
   "outputs": [],
   "source": [
    "def norm(x):\n",
    "    return (x - stats['min']) /( stats['max'] - stats['min'] )"
   ]
  },
  {
   "cell_type": "code",
   "execution_count": 39,
   "metadata": {},
   "outputs": [],
   "source": [
    "def normLabel(x):\n",
    "    return (x - stats2['min']) /( stats2['max'] - stats2['min'] )"
   ]
  },
  {
   "cell_type": "code",
   "execution_count": 40,
   "metadata": {},
   "outputs": [],
   "source": [
    "normed_train = norm(data_df)"
   ]
  },
  {
   "cell_type": "code",
   "execution_count": 41,
   "metadata": {},
   "outputs": [],
   "source": [
    "normed_test = norm(data_df_test)"
   ]
  },
  {
   "cell_type": "code",
   "execution_count": 42,
   "metadata": {},
   "outputs": [],
   "source": [
    "norm_y = normLabel(y_less)"
   ]
  },
  {
   "cell_type": "code",
   "execution_count": 43,
   "metadata": {},
   "outputs": [],
   "source": [
    "norm_y_test = normLabel(y_less_test)"
   ]
  },
  {
   "cell_type": "code",
   "execution_count": null,
   "metadata": {},
   "outputs": [],
   "source": [
    "y_less"
   ]
  },
  {
   "cell_type": "code",
   "execution_count": null,
   "metadata": {},
   "outputs": [],
   "source": [
    "normed_train"
   ]
  },
  {
   "cell_type": "code",
   "execution_count": null,
   "metadata": {},
   "outputs": [],
   "source": [
    "norm_y"
   ]
  },
  {
   "cell_type": "code",
   "execution_count": 81,
   "metadata": {},
   "outputs": [],
   "source": [
    "def build_model():\n",
    "    model = tf.keras.Sequential([\n",
    "    tf.keras.layers.Dense(15, activation='sigmoid', input_shape=[len(data_df.keys())]),\n",
    "    #tf.keras.layers.Dense(64, activation='relu'),\n",
    "    tf.keras.layers.Dense(1, activation = 'sigmoid')\n",
    "    ])\n",
    "\n",
    "    #optimizer = tf.keras.optimizers.RMSprop(0.001)\n",
    "    optimizer = tf.keras.optimizers.Adam(learning_rate=1e-2)\n",
    "    model.compile(loss='mean_squared_error',\n",
    "                  #metrics = ['accuracy'],\n",
    "                optimizer=optimizer)\n",
    "    return model"
   ]
  },
  {
   "cell_type": "code",
   "execution_count": 82,
   "metadata": {
    "scrolled": false
   },
   "outputs": [],
   "source": [
    "model = build_model()"
   ]
  },
  {
   "cell_type": "code",
   "execution_count": 83,
   "metadata": {},
   "outputs": [
    {
     "name": "stdout",
     "output_type": "stream",
     "text": [
      "Model: \"sequential_6\"\n",
      "_________________________________________________________________\n",
      "Layer (type)                 Output Shape              Param #   \n",
      "=================================================================\n",
      "dense_12 (Dense)             (None, 15)                120       \n",
      "_________________________________________________________________\n",
      "dense_13 (Dense)             (None, 1)                 16        \n",
      "=================================================================\n",
      "Total params: 136\n",
      "Trainable params: 136\n",
      "Non-trainable params: 0\n",
      "_________________________________________________________________\n"
     ]
    }
   ],
   "source": [
    "model.summary()"
   ]
  },
  {
   "cell_type": "code",
   "execution_count": 84,
   "metadata": {},
   "outputs": [
    {
     "name": "stdout",
     "output_type": "stream",
     "text": [
      "\n",
      "Epoch: 0, loss:0.1817,  val_loss:0.1630,  \n",
      "....................................................................................................\n",
      "Epoch: 100, loss:0.1536,  val_loss:0.1783,  \n",
      "....................................................................................................\n",
      "Epoch: 200, loss:0.1511,  val_loss:0.1747,  \n",
      "....................................................................................................\n",
      "Epoch: 300, loss:0.1495,  val_loss:0.1727,  \n",
      "....................................................................................................\n",
      "Epoch: 400, loss:0.1518,  val_loss:0.1962,  \n",
      "....................................................................................................\n",
      "Epoch: 500, loss:0.1448,  val_loss:0.1697,  \n",
      "....................................................................................................\n",
      "Epoch: 600, loss:0.1401,  val_loss:0.1573,  \n",
      "....................................................................................................\n",
      "Epoch: 700, loss:0.1364,  val_loss:0.1486,  \n",
      "....................................................................................................\n",
      "Epoch: 800, loss:0.1300,  val_loss:0.1430,  \n",
      "....................................................................................................\n",
      "Epoch: 900, loss:0.1265,  val_loss:0.1365,  \n",
      "....................................................................................................\n",
      "Epoch: 1000, loss:0.1226,  val_loss:0.1298,  \n",
      "....................................................................................................\n",
      "Epoch: 1100, loss:0.1205,  val_loss:0.1226,  \n",
      "....................................................................................................\n",
      "Epoch: 1200, loss:0.1150,  val_loss:0.1163,  \n",
      "....................................................................................................\n",
      "Epoch: 1300, loss:0.1127,  val_loss:0.1177,  \n",
      "....................................................................................................\n",
      "Epoch: 1400, loss:0.1082,  val_loss:0.1087,  \n",
      "....................................................................................................\n",
      "Epoch: 1500, loss:0.1042,  val_loss:0.1074,  \n",
      "....................................................................................................\n",
      "Epoch: 1600, loss:0.1013,  val_loss:0.1031,  \n",
      "....................................................................................................\n",
      "Epoch: 1700, loss:0.1008,  val_loss:0.1023,  \n",
      "....................................................................................................\n",
      "Epoch: 1800, loss:0.0961,  val_loss:0.1014,  \n",
      "....................................................................................................\n",
      "Epoch: 1900, loss:0.0930,  val_loss:0.1000,  \n",
      "....................................................................................................\n",
      "Epoch: 2000, loss:0.0896,  val_loss:0.0982,  \n",
      "....................................................................................................\n",
      "Epoch: 2100, loss:0.0867,  val_loss:0.0954,  \n",
      "....................................................................................................\n",
      "Epoch: 2200, loss:0.0847,  val_loss:0.0993,  \n",
      "....................................................................................................\n",
      "Epoch: 2300, loss:0.0777,  val_loss:0.0937,  \n",
      "....................................................................................................\n",
      "Epoch: 2400, loss:0.0739,  val_loss:0.0929,  \n",
      "....................................................................................................\n",
      "Epoch: 2500, loss:0.0716,  val_loss:0.0941,  \n",
      "....................................................................................................\n",
      "Epoch: 2600, loss:0.0664,  val_loss:0.0917,  \n",
      "....................................................................................................\n",
      "Epoch: 2700, loss:0.0644,  val_loss:0.0887,  \n",
      "....................................................................................................\n",
      "Epoch: 2800, loss:0.0605,  val_loss:0.0909,  \n",
      "....................................................................................................\n",
      "Epoch: 2900, loss:0.0595,  val_loss:0.0897,  \n",
      "....................................................................................................\n",
      "Epoch: 3000, loss:0.0554,  val_loss:0.0880,  \n",
      "....................................................................................................\n",
      "Epoch: 3100, loss:0.0548,  val_loss:0.0901,  \n",
      "....................................................................................................\n",
      "Epoch: 3200, loss:0.0506,  val_loss:0.0905,  \n",
      "....................................................................................................\n",
      "Epoch: 3300, loss:0.0481,  val_loss:0.0865,  \n",
      "....................................................................................................\n",
      "Epoch: 3400, loss:0.0463,  val_loss:0.0888,  \n",
      "...................................................................................................."
     ]
    }
   ],
   "source": [
    "EPOCHS = 3500\n",
    "\n",
    "history = model.fit(\n",
    "  normed_train, norm_y,\n",
    "  epochs=EPOCHS,validation_split = 0.15, verbose=0,\n",
    "  callbacks=[tfdocs.modeling.EpochDots()])"
   ]
  },
  {
   "cell_type": "code",
   "execution_count": 89,
   "metadata": {
    "scrolled": true
   },
   "outputs": [
    {
     "data": {
      "image/png": "[encoded data removed]",
      "text/plain": [
       "<Figure size 432x288 with 1 Axes>"
      ]
     },
     "metadata": {
      "needs_background": "light"
     },
     "output_type": "display_data"
    }
   ],
   "source": [
    "# Plots 'history'\n",
    "history_dict=history.history\n",
    "loss_values = history_dict['loss']\n",
    "val_loss_values=history_dict['val_loss']\n",
    "plt.plot(loss_values,'bo',label='training loss')\n",
    "plt.plot(val_loss_values,'r',label='training loss val')\n",
    "plt.savefig('loss.png')"
   ]
  },
  {
   "cell_type": "code",
   "execution_count": 88,
   "metadata": {},
   "outputs": [
    {
     "data": {
      "text/plain": [
       "<Figure size 432x288 with 0 Axes>"
      ]
     },
     "metadata": {},
     "output_type": "display_data"
    }
   ],
   "source": [
    "plt.savefig('lossCurve.png')"
   ]
  },
  {
   "cell_type": "code",
   "execution_count": null,
   "metadata": {},
   "outputs": [],
   "source": [
    "EPOCHS = 1200\n",
    "model = build_model()\n",
    "early_stop = tf.keras.callbacks.EarlyStopping(monitor='val_loss', patience=90)\n",
    "early_history = model.fit(normed_train, norm_y, \n",
    "                    epochs=EPOCHS, validation_split = 0.10, verbose=0, \n",
    "                    callbacks=[early_stop, tfdocs.modeling.EpochDots()])"
   ]
  },
  {
   "cell_type": "code",
   "execution_count": null,
   "metadata": {},
   "outputs": [],
   "source": [
    "# Plots 'history'\n",
    "history_dict=early_history.history\n",
    "loss_values = history_dict['loss']\n",
    "val_loss_values=history_dict['val_loss']\n",
    "plt.plot(loss_values,'bo',label='training loss')\n",
    "plt.plot(val_loss_values,'r',label='training loss val')"
   ]
  },
  {
   "cell_type": "code",
   "execution_count": 86,
   "metadata": {},
   "outputs": [
    {
     "name": "stdout",
     "output_type": "stream",
     "text": [
      "The R2 score on the Train set is:\t0.711\n"
     ]
    }
   ],
   "source": [
    "y_train_pred = model.predict(normed_train)\n",
    "print(\"The R2 score on the Train set is:\\t{:0.3f}\".format(r2_score(norm_y, y_train_pred)))"
   ]
  },
  {
   "cell_type": "code",
   "execution_count": 87,
   "metadata": {},
   "outputs": [
    {
     "name": "stdout",
     "output_type": "stream",
     "text": [
      "The R2 score on the Train set is:\t-0.412\n"
     ]
    }
   ],
   "source": [
    "y_test_pred = model.predict(normed_test)\n",
    "print(\"The R2 score on the Train set is:\\t{:0.3f}\".format(r2_score(norm_y_test, y_test_pred)))"
   ]
  },
  {
   "cell_type": "code",
   "execution_count": null,
   "metadata": {
    "scrolled": true
   },
   "outputs": [],
   "source": [
    "y_test_pred"
   ]
  },
  {
   "cell_type": "code",
   "execution_count": null,
   "metadata": {},
   "outputs": [],
   "source": [
    "norm_y_test"
   ]
  },
  {
   "cell_type": "code",
   "execution_count": 90,
   "metadata": {},
   "outputs": [],
   "source": [
    "model.save('model_r_71.h5')"
   ]
  },
  {
   "cell_type": "code",
   "execution_count": null,
   "metadata": {},
   "outputs": [],
   "source": [
    "norm_y"
   ]
  },
  {
   "cell_type": "code",
   "execution_count": 91,
   "metadata": {},
   "outputs": [],
   "source": [
    "unNorm_pred_test = (y_test_pred * (stats2['max'] - stats2['min'])) + stats2['min']"
   ]
  },
  {
   "cell_type": "code",
   "execution_count": 92,
   "metadata": {},
   "outputs": [],
   "source": [
    "unNorm_pred = (y_train_pred * (stats2['max'] - stats2['min'])) + stats2['min']"
   ]
  },
  {
   "cell_type": "markdown",
   "metadata": {},
   "source": [
    "## Load Model"
   ]
  },
  {
   "cell_type": "code",
   "execution_count": null,
   "metadata": {},
   "outputs": [],
   "source": [
    "model = load_model('model_r_85.h5')"
   ]
  },
  {
   "cell_type": "markdown",
   "metadata": {},
   "source": [
    "## Mag Less than 3 ==> No Quake"
   ]
  },
  {
   "cell_type": "code",
   "execution_count": null,
   "metadata": {},
   "outputs": [],
   "source": [
    "y_less"
   ]
  },
  {
   "cell_type": "code",
   "execution_count": null,
   "metadata": {
    "scrolled": true
   },
   "outputs": [],
   "source": [
    "unNorm_pred"
   ]
  },
  {
   "cell_type": "code",
   "execution_count": null,
   "metadata": {},
   "outputs": [],
   "source": [
    "len(unNorm_pred)"
   ]
  },
  {
   "cell_type": "markdown",
   "metadata": {},
   "source": [
    "## No of Quake which did not occur"
   ]
  },
  {
   "cell_type": "code",
   "execution_count": null,
   "metadata": {},
   "outputs": [],
   "source": [
    "ne = y_less == 0"
   ]
  },
  {
   "cell_type": "code",
   "execution_count": null,
   "metadata": {},
   "outputs": [],
   "source": [
    "idx_noQuake = ne[ne].index"
   ]
  },
  {
   "cell_type": "code",
   "execution_count": null,
   "metadata": {},
   "outputs": [],
   "source": [
    "idx_noQuake"
   ]
  },
  {
   "cell_type": "code",
   "execution_count": null,
   "metadata": {},
   "outputs": [],
   "source": [
    "unNorm_pred[idx_noQuake]"
   ]
  },
  {
   "cell_type": "markdown",
   "metadata": {},
   "source": [
    "## No of Zero level Hit"
   ]
  },
  {
   "cell_type": "code",
   "execution_count": 93,
   "metadata": {},
   "outputs": [],
   "source": [
    "s1 = unNorm_pred < threshold"
   ]
  },
  {
   "cell_type": "code",
   "execution_count": 94,
   "metadata": {},
   "outputs": [],
   "source": [
    "s2 = y_less < threshold"
   ]
  },
  {
   "cell_type": "code",
   "execution_count": 95,
   "metadata": {},
   "outputs": [],
   "source": [
    "s1 = s1.reshape(122)"
   ]
  },
  {
   "cell_type": "code",
   "execution_count": 96,
   "metadata": {
    "scrolled": true
   },
   "outputs": [],
   "source": [
    "s1 = pd.Series(s1)"
   ]
  },
  {
   "cell_type": "code",
   "execution_count": 97,
   "metadata": {},
   "outputs": [],
   "source": [
    "s1_idx = s1[s1].index"
   ]
  },
  {
   "cell_type": "code",
   "execution_count": 98,
   "metadata": {},
   "outputs": [
    {
     "data": {
      "text/plain": [
       "105"
      ]
     },
     "execution_count": 98,
     "metadata": {},
     "output_type": "execute_result"
    }
   ],
   "source": [
    "len(s1_idx)"
   ]
  },
  {
   "cell_type": "code",
   "execution_count": 99,
   "metadata": {
    "scrolled": true
   },
   "outputs": [],
   "source": [
    "s2_idx = s2[s2].index"
   ]
  },
  {
   "cell_type": "code",
   "execution_count": 100,
   "metadata": {},
   "outputs": [
    {
     "data": {
      "text/plain": [
       "98"
      ]
     },
     "execution_count": 100,
     "metadata": {},
     "output_type": "execute_result"
    }
   ],
   "source": [
    "len(s2_idx)"
   ]
  },
  {
   "cell_type": "code",
   "execution_count": 101,
   "metadata": {},
   "outputs": [],
   "source": [
    "zeroHit_idx = s1_idx.intersection(s2_idx)"
   ]
  },
  {
   "cell_type": "code",
   "execution_count": 102,
   "metadata": {},
   "outputs": [
    {
     "data": {
      "text/plain": [
       "92"
      ]
     },
     "execution_count": 102,
     "metadata": {},
     "output_type": "execute_result"
    }
   ],
   "source": [
    "len(zeroHit_idx)"
   ]
  },
  {
   "cell_type": "markdown",
   "metadata": {},
   "source": [
    "## Zero level For test"
   ]
  },
  {
   "cell_type": "code",
   "execution_count": 103,
   "metadata": {},
   "outputs": [
    {
     "name": "stdout",
     "output_type": "stream",
     "text": [
      "298\n",
      "374\n",
      "253\n"
     ]
    }
   ],
   "source": [
    "s1_test = unNorm_pred_test < threshold\n",
    "s2_test = y_less_test < threshold\n",
    "s1_test = s1_test.reshape(481)\n",
    "s1_test = pd.Series(s1_test)\n",
    "s1_test_idx = s1_test[s1_test].index\n",
    "print(len(s1_test_idx))\n",
    "s2_test_idx = s2_test[s2_test].index\n",
    "print(len(s2_test_idx))\n",
    "zeroHit_test_idx = s1_test_idx.intersection(s2_test_idx)\n",
    "print(len(zeroHit_test_idx))"
   ]
  },
  {
   "cell_type": "markdown",
   "metadata": {},
   "source": [
    "## No of One level Hit"
   ]
  },
  {
   "cell_type": "code",
   "execution_count": 104,
   "metadata": {},
   "outputs": [],
   "source": [
    "s3 = unNorm_pred > threshold"
   ]
  },
  {
   "cell_type": "code",
   "execution_count": 105,
   "metadata": {},
   "outputs": [],
   "source": [
    "s4 = y_less > threshold"
   ]
  },
  {
   "cell_type": "code",
   "execution_count": 106,
   "metadata": {},
   "outputs": [],
   "source": [
    "s3 = s3.reshape(122)"
   ]
  },
  {
   "cell_type": "code",
   "execution_count": 107,
   "metadata": {},
   "outputs": [],
   "source": [
    "s3 = pd.Series(s3)"
   ]
  },
  {
   "cell_type": "code",
   "execution_count": 108,
   "metadata": {},
   "outputs": [],
   "source": [
    "s3_idx = s3[s3].index"
   ]
  },
  {
   "cell_type": "code",
   "execution_count": 109,
   "metadata": {},
   "outputs": [
    {
     "data": {
      "text/plain": [
       "17"
      ]
     },
     "execution_count": 109,
     "metadata": {},
     "output_type": "execute_result"
    }
   ],
   "source": [
    "len(s3_idx)"
   ]
  },
  {
   "cell_type": "code",
   "execution_count": 110,
   "metadata": {},
   "outputs": [],
   "source": [
    "s4_idx = s4[s4].index"
   ]
  },
  {
   "cell_type": "code",
   "execution_count": 111,
   "metadata": {},
   "outputs": [
    {
     "data": {
      "text/plain": [
       "24"
      ]
     },
     "execution_count": 111,
     "metadata": {},
     "output_type": "execute_result"
    }
   ],
   "source": [
    "len(s4_idx)"
   ]
  },
  {
   "cell_type": "code",
   "execution_count": 112,
   "metadata": {},
   "outputs": [],
   "source": [
    "oneHit_idx = s3_idx.intersection(s4_idx)"
   ]
  },
  {
   "cell_type": "code",
   "execution_count": 113,
   "metadata": {},
   "outputs": [
    {
     "data": {
      "text/plain": [
       "11"
      ]
     },
     "execution_count": 113,
     "metadata": {},
     "output_type": "execute_result"
    }
   ],
   "source": [
    "len(oneHit_idx)"
   ]
  },
  {
   "cell_type": "markdown",
   "metadata": {},
   "source": [
    "## No of One level Test"
   ]
  },
  {
   "cell_type": "code",
   "execution_count": 114,
   "metadata": {},
   "outputs": [
    {
     "name": "stdout",
     "output_type": "stream",
     "text": [
      "183\n",
      "107\n",
      "62\n"
     ]
    }
   ],
   "source": [
    "s3_test = unNorm_pred_test > threshold\n",
    "s4_test = y_less_test > threshold\n",
    "s3_test = s3_test.reshape(481)\n",
    "s3_test = pd.Series(s3_test)\n",
    "s3_test_idx = s3_test[s3_test].index\n",
    "print(len(s3_test_idx))\n",
    "s4_test_idx = s4_test[s4_test].index\n",
    "print(len(s4_test_idx))\n",
    "oneHit_test_idx = s3_test_idx.intersection(s4_test_idx)\n",
    "print(len(oneHit_test_idx))"
   ]
  },
  {
   "cell_type": "markdown",
   "metadata": {},
   "source": [
    "## No of FP"
   ]
  },
  {
   "cell_type": "code",
   "execution_count": 115,
   "metadata": {},
   "outputs": [
    {
     "data": {
      "text/plain": [
       "6"
      ]
     },
     "execution_count": 115,
     "metadata": {},
     "output_type": "execute_result"
    }
   ],
   "source": [
    "len(s3_idx.intersection(s2_idx))"
   ]
  },
  {
   "cell_type": "markdown",
   "metadata": {},
   "source": [
    "## No of FP (test)"
   ]
  },
  {
   "cell_type": "code",
   "execution_count": 116,
   "metadata": {},
   "outputs": [
    {
     "data": {
      "text/plain": [
       "121"
      ]
     },
     "execution_count": 116,
     "metadata": {},
     "output_type": "execute_result"
    }
   ],
   "source": [
    "len(s3_test_idx.intersection(s2_test_idx))"
   ]
  },
  {
   "cell_type": "markdown",
   "metadata": {},
   "source": [
    "## No of FN"
   ]
  },
  {
   "cell_type": "code",
   "execution_count": 117,
   "metadata": {},
   "outputs": [
    {
     "data": {
      "text/plain": [
       "13"
      ]
     },
     "execution_count": 117,
     "metadata": {},
     "output_type": "execute_result"
    }
   ],
   "source": [
    "len(s1_idx.intersection(s4_idx))"
   ]
  },
  {
   "cell_type": "markdown",
   "metadata": {},
   "source": [
    "## No of FN (Test)"
   ]
  },
  {
   "cell_type": "code",
   "execution_count": 118,
   "metadata": {},
   "outputs": [
    {
     "data": {
      "text/plain": [
       "45"
      ]
     },
     "execution_count": 118,
     "metadata": {},
     "output_type": "execute_result"
    }
   ],
   "source": [
    "len(s1_test_idx.intersection(s4_test_idx))"
   ]
  },
  {
   "cell_type": "markdown",
   "metadata": {},
   "source": [
    "## No of Earthquake which (actually) occurred"
   ]
  },
  {
   "cell_type": "code",
   "execution_count": null,
   "metadata": {},
   "outputs": [],
   "source": [
    "s = y_less > 0"
   ]
  },
  {
   "cell_type": "code",
   "execution_count": null,
   "metadata": {},
   "outputs": [],
   "source": [
    "idx_Quake = s[s].index"
   ]
  },
  {
   "cell_type": "code",
   "execution_count": null,
   "metadata": {},
   "outputs": [],
   "source": [
    "idx_Quake"
   ]
  },
  {
   "cell_type": "code",
   "execution_count": null,
   "metadata": {},
   "outputs": [],
   "source": [
    "unNorm_pred[idx_Quake]"
   ]
  },
  {
   "cell_type": "code",
   "execution_count": null,
   "metadata": {
    "scrolled": true
   },
   "outputs": [],
   "source": [
    "np.sum(y_less > 0)"
   ]
  },
  {
   "cell_type": "markdown",
   "metadata": {},
   "source": [
    "## No of Times ANN Predicted Earthquake"
   ]
  },
  {
   "cell_type": "code",
   "execution_count": null,
   "metadata": {},
   "outputs": [],
   "source": [
    "np.sum(unNorm_pred >= threshold)"
   ]
  },
  {
   "cell_type": "markdown",
   "metadata": {},
   "source": [
    "## Prepare for Classification Problem"
   ]
  },
  {
   "cell_type": "code",
   "execution_count": null,
   "metadata": {},
   "outputs": [],
   "source": [
    "y_class = []\n",
    "for y in y_act:\n",
    "    if(y != 0):\n",
    "        y_class.append(1)\n",
    "    else:\n",
    "        y_class.append(0)"
   ]
  },
  {
   "cell_type": "code",
   "execution_count": null,
   "metadata": {
    "scrolled": true
   },
   "outputs": [],
   "source": [
    "y_class"
   ]
  },
  {
   "cell_type": "code",
   "execution_count": null,
   "metadata": {},
   "outputs": [],
   "source": [
    "data_df = pd.DataFrame({'x1': x1_act, 'x2': x2_act, 'x3': x3_act, 'x4': x4_act, 'x5': x5_act, 'x6': x6_act, 'x7': x7_act})"
   ]
  },
  {
   "cell_type": "code",
   "execution_count": null,
   "metadata": {},
   "outputs": [],
   "source": [
    "data_df"
   ]
  },
  {
   "cell_type": "code",
   "execution_count": null,
   "metadata": {},
   "outputs": [],
   "source": [
    "label_class = pd.Series(y_class)"
   ]
  },
  {
   "cell_type": "code",
   "execution_count": null,
   "metadata": {},
   "outputs": [],
   "source": [
    "label_df = pd.Series(y_act)\n",
    "label_df"
   ]
  },
  {
   "cell_type": "code",
   "execution_count": null,
   "metadata": {},
   "outputs": [],
   "source": [
    "train_dataset = data_df.sample(frac=0.8,random_state=0)\n",
    "test_dataset = data_df.drop(train_dataset.index)"
   ]
  },
  {
   "cell_type": "code",
   "execution_count": null,
   "metadata": {},
   "outputs": [],
   "source": [
    "train_labels_C = label_class.iloc[train_dataset.index]\n",
    "test_labels_C = label_class.iloc[test_dataset.index]"
   ]
  },
  {
   "cell_type": "code",
   "execution_count": null,
   "metadata": {},
   "outputs": [],
   "source": [
    "train_labels = label_df.iloc[train_dataset.index]\n",
    "test_labels = label_df.iloc[test_dataset.index]"
   ]
  },
  {
   "cell_type": "markdown",
   "metadata": {},
   "source": [
    "## Reset Dataframe Index"
   ]
  },
  {
   "cell_type": "code",
   "execution_count": null,
   "metadata": {},
   "outputs": [],
   "source": [
    "train_dataset.reset_index(drop=True, inplace=True)\n",
    "test_dataset.reset_index(drop=True, inplace = True)\n",
    "train_labels.reset_index(drop=True, inplace = True)\n",
    "#train_labels_C.reset_index(drop = True, inplace = True)\n",
    "test_labels.reset_index(drop=True, inplace = True)\n",
    "#test_labels_C.reset_index(drop = True, inplace = True)"
   ]
  },
  {
   "cell_type": "code",
   "execution_count": null,
   "metadata": {},
   "outputs": [],
   "source": [
    "sns.pairplot(train_dataset, diag_kind=\"kde\")"
   ]
  },
  {
   "cell_type": "code",
   "execution_count": null,
   "metadata": {},
   "outputs": [],
   "source": [
    "stats = train_dataset.describe()\n",
    "stats = stats.transpose()\n",
    "stats"
   ]
  },
  {
   "cell_type": "code",
   "execution_count": null,
   "metadata": {},
   "outputs": [],
   "source": [
    "def norm(x):\n",
    "    return (x - stats['mean']) / stats['std']"
   ]
  },
  {
   "cell_type": "code",
   "execution_count": null,
   "metadata": {},
   "outputs": [],
   "source": [
    "normed_train = norm(train_dataset)\n",
    "normed_test = norm(test_dataset)"
   ]
  },
  {
   "cell_type": "code",
   "execution_count": null,
   "metadata": {},
   "outputs": [],
   "source": [
    "normed_train.shape"
   ]
  },
  {
   "cell_type": "code",
   "execution_count": null,
   "metadata": {},
   "outputs": [],
   "source": [
    "def build_model():\n",
    "    model = tf.keras.Sequential([\n",
    "#     tf.keras.layers.LSTM(64, batch_input_shape=(None,1,7), return_sequences = True),\n",
    "#     tf.keras.layers.Bidirectional(tf.keras.layers.LSTM(64, return_sequences = True)),\n",
    "    tf.keras.layers.Dense(15, activation='relu', input_shape=[len(train_dataset.keys())]),\n",
    "    #tf.keras.layers.Dropout(0.3),\n",
    "    #tf.keras.layers.Flatten(),\n",
    "    #tf.keras.layers.Dense(32, activation = 'relu'),\n",
    "    #tf.keras.layers.Dropout(0.25),\n",
    "    tf.keras.layers.Dense(1, activation = 'sigmoid')\n",
    "    ])\n",
    "\n",
    "    optimizer = tf.keras.optimizers.RMSprop(0.001)\n",
    "\n",
    "    model.compile(loss='mean_squared_error',\n",
    "                  #metrics = ['accuracy'],\n",
    "                optimizer=Adam(lr=1e-5))\n",
    "    return model"
   ]
  },
  {
   "cell_type": "code",
   "execution_count": null,
   "metadata": {},
   "outputs": [],
   "source": [
    "model = build_model()"
   ]
  },
  {
   "cell_type": "code",
   "execution_count": null,
   "metadata": {},
   "outputs": [],
   "source": [
    "model.summary()"
   ]
  },
  {
   "cell_type": "code",
   "execution_count": null,
   "metadata": {},
   "outputs": [],
   "source": [
    "nt = normed_train.to_numpy()"
   ]
  },
  {
   "cell_type": "code",
   "execution_count": null,
   "metadata": {},
   "outputs": [],
   "source": [
    "nt = nt.reshape(482,1,7)"
   ]
  },
  {
   "cell_type": "code",
   "execution_count": null,
   "metadata": {},
   "outputs": [],
   "source": [
    "norm_train_label = (train_labels-train_labels.min())/(train_labels.max()-train_labels.min())"
   ]
  },
  {
   "cell_type": "code",
   "execution_count": null,
   "metadata": {},
   "outputs": [],
   "source": [
    "norm_test_label = (test_labels-test_labels.min())/(test_labels.max()-test_labels.min())"
   ]
  },
  {
   "cell_type": "code",
   "execution_count": null,
   "metadata": {
    "scrolled": true
   },
   "outputs": [],
   "source": [
    "example_batch = normed_train[:10]\n",
    "example_result = model.predict(example_batch)\n",
    "example_result"
   ]
  },
  {
   "cell_type": "code",
   "execution_count": null,
   "metadata": {},
   "outputs": [],
   "source": [
    "EPOCHS = 4400\n",
    "\n",
    "history = model.fit(\n",
    "  normed_train, norm_train_label,\n",
    "  epochs=EPOCHS,validation_split = 0.25, verbose=0,\n",
    "  callbacks=[tfdocs.modeling.EpochDots()])"
   ]
  },
  {
   "cell_type": "code",
   "execution_count": null,
   "metadata": {},
   "outputs": [],
   "source": [
    "# Plots 'history'\n",
    "history_dict=history.history\n",
    "loss_values = history_dict['loss']\n",
    "val_loss_values=history_dict['val_loss']\n",
    "plt.plot(loss_values,'bo',label='training loss')\n",
    "plt.plot(val_loss_values,'r',label='training loss val')"
   ]
  },
  {
   "cell_type": "code",
   "execution_count": null,
   "metadata": {},
   "outputs": [],
   "source": [
    "model = build_model()\n",
    "early_stop = tf.keras.callbacks.EarlyStopping(monitor='val_loss', patience=30)\n",
    "early_history = model.fit(normed_train, norm_train_label, \n",
    "                    epochs=EPOCHS, validation_split = 0.2, verbose=0, \n",
    "                    callbacks=[early_stop, tfdocs.modeling.EpochDots()])"
   ]
  },
  {
   "cell_type": "code",
   "execution_count": null,
   "metadata": {},
   "outputs": [],
   "source": [
    "# Plots 'history'\n",
    "history_dict=early_history.history\n",
    "loss_values = history_dict['loss']\n",
    "val_loss_values=history_dict['val_loss']\n",
    "plt.plot(loss_values,'bo',label='training loss')\n",
    "plt.plot(val_loss_values,'r',label='training loss val')"
   ]
  },
  {
   "cell_type": "code",
   "execution_count": null,
   "metadata": {},
   "outputs": [],
   "source": [
    "test_predictions = model.predict(normed_test).flatten()\n",
    "\n",
    "a = plt.axes(aspect='equal')\n",
    "plt.scatter(norm_test_label, test_predictions)\n",
    "plt.xlabel('True Values [y]')\n",
    "plt.ylabel('Predictions [y^]')\n",
    "lims = [0, 1]\n",
    "plt.xlim(lims)\n",
    "plt.ylim(lims)\n",
    "_ = plt.plot(lims, lims)"
   ]
  },
  {
   "cell_type": "code",
   "execution_count": null,
   "metadata": {},
   "outputs": [],
   "source": [
    "error = test_predictions - norm_test_label\n",
    "plt.hist(error, bins = 25)\n",
    "plt.xlabel(\"Prediction Error [Mag]\")\n",
    "_ = plt.ylabel(\"Count\")"
   ]
  },
  {
   "cell_type": "code",
   "execution_count": null,
   "metadata": {},
   "outputs": [],
   "source": [
    "test_labels[:10]"
   ]
  },
  {
   "cell_type": "code",
   "execution_count": null,
   "metadata": {},
   "outputs": [],
   "source": [
    "y_test_pred"
   ]
  },
  {
   "cell_type": "code",
   "execution_count": null,
   "metadata": {},
   "outputs": [],
   "source": [
    "# Runs model with its current weights on the training and testing data\n",
    "y_train_pred = model.predict(normed_train)\n",
    "y_test_pred = model.predict(normed_test)\n",
    "\n",
    "# Calculates and prints r2 score of training and testing data\n",
    "print(\"The R2 score on the Train set is:\\t{:0.3f}\".format(r2_score(norm_train_label, y_train_pred)))\n",
    "print(\"The R2 score on the Test set is:\\t{:0.3f}\".format(r2_score(norm_test_label, y_test_pred)))"
   ]
  },
  {
   "cell_type": "code",
   "execution_count": null,
   "metadata": {},
   "outputs": [],
   "source": [
    "np_data = np.array(data_df, dtype = float)"
   ]
  },
  {
   "cell_type": "code",
   "execution_count": null,
   "metadata": {},
   "outputs": [],
   "source": [
    "np_data.shape"
   ]
  },
  {
   "cell_type": "code",
   "execution_count": null,
   "metadata": {},
   "outputs": [],
   "source": [
    "target_np = np.array(y_act, dtype = float)"
   ]
  },
  {
   "cell_type": "code",
   "execution_count": null,
   "metadata": {},
   "outputs": [],
   "source": [
    "target_np.shape"
   ]
  },
  {
   "cell_type": "code",
   "execution_count": null,
   "metadata": {},
   "outputs": [],
   "source": [
    "x_train,x_test,y_train,y_test = train_test_split(np_data,target_np,test_size = 0.2, random_state = 4)"
   ]
  },
  {
   "cell_type": "code",
   "execution_count": null,
   "metadata": {},
   "outputs": [],
   "source": [
    "x_test.shape"
   ]
  },
  {
   "cell_type": "code",
   "execution_count": null,
   "metadata": {},
   "outputs": [],
   "source": [
    "y_test.shape"
   ]
  },
  {
   "cell_type": "code",
   "execution_count": null,
   "metadata": {},
   "outputs": [],
   "source": [
    "model = Sequential()"
   ]
  },
  {
   "cell_type": "code",
   "execution_count": null,
   "metadata": {},
   "outputs": [],
   "source": [
    "model = tf.keras.Sequential([\n",
    "    tf.keras.layers.Dense(7, input_dim = 7, kernel_initializer = 'normal', activation = 'relu'),\n",
    "    tf.keras.layers.Dense(15, kernel_initializer = 'normal', activation='relu'),\n",
    "    tf.keras.layers.Dense(1, kernel_initializer = 'normal')\n",
    "])"
   ]
  },
  {
   "cell_type": "code",
   "execution_count": null,
   "metadata": {},
   "outputs": [],
   "source": [
    "model.compile(loss='mean_squared_error',optimizer = 'adam', metrics = ['mae'])"
   ]
  },
  {
   "cell_type": "code",
   "execution_count": null,
   "metadata": {},
   "outputs": [],
   "source": [
    "history = model.fit(x_train, y_train, epochs = 500, validation_data = (x_test, y_test))"
   ]
  },
  {
   "cell_type": "code",
   "execution_count": null,
   "metadata": {},
   "outputs": [],
   "source": [
    "results = model.predict(x_test)"
   ]
  },
  {
   "cell_type": "code",
   "execution_count": null,
   "metadata": {},
   "outputs": [],
   "source": [
    "y_test"
   ]
  },
  {
   "cell_type": "code",
   "execution_count": null,
   "metadata": {},
   "outputs": [],
   "source": [
    "results"
   ]
  },
  {
   "cell_type": "code",
   "execution_count": null,
   "metadata": {},
   "outputs": [],
   "source": [
    "def baseline_model():\n",
    "    # create model\n",
    "    model = Sequential()\n",
    "    model.add(Dense(7, input_dim=7, kernel_initializer='normal', activation='relu'))\n",
    "    model.add(Dense(15, kernel_initializer='normal', activation = 'relu'))\n",
    "    model.add(Dense(1, kernel_initializer='normal'))\n",
    "    # Compile model\n",
    "    model.compile(loss='mean_squared_error', optimizer='adam')\n",
    "    return model"
   ]
  },
  {
   "cell_type": "code",
   "execution_count": null,
   "metadata": {},
   "outputs": [],
   "source": [
    "estimator = KerasRegressor(build_fn=baseline_model, epochs=100, batch_size=5, verbose=0)"
   ]
  },
  {
   "cell_type": "code",
   "execution_count": null,
   "metadata": {},
   "outputs": [],
   "source": [
    "kfold = KFold(n_splits=10)\n",
    "results = cross_val_score(estimator, x_train, y_train, cv=kfold)\n",
    "print(\"Baseline: %.2f (%.2f) MSE\" % (results.mean(), results.std()))"
   ]
  },
  {
   "cell_type": "code",
   "execution_count": null,
   "metadata": {},
   "outputs": [],
   "source": [
    "results"
   ]
  },
  {
   "cell_type": "code",
   "execution_count": null,
   "metadata": {},
   "outputs": [],
   "source": []
  }
 ],
 "metadata": {
  "kernelspec": {
   "display_name": "Python 3",
   "language": "python",
   "name": "python3"
  },
  "language_info": {
   "codemirror_mode": {
    "name": "ipython",
    "version": 3
   },
   "file_extension": ".py",
   "mimetype": "text/x-python",
   "name": "python",
   "nbconvert_exporter": "python",
   "pygments_lexer": "ipython3",
   "version": "3.7.7"
  }
 },
 "nbformat": 4,
 "nbformat_minor": 2
}
